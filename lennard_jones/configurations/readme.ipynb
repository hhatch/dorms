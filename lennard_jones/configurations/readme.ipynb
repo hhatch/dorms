{
 "cells": [
  {
   "cell_type": "markdown",
   "id": "da515c9e",
   "metadata": {},
   "source": [
    "# Configurations\n",
    "\n"
   ]
  },
  {
   "cell_type": "code",
   "execution_count": 2,
   "id": "2324cae0",
   "metadata": {},
   "outputs": [
    {
     "data": {
      "text/html": [
       "<div>\n",
       "<style scoped>\n",
       "    .dataframe tbody tr th:only-of-type {\n",
       "        vertical-align: middle;\n",
       "    }\n",
       "\n",
       "    .dataframe tbody tr th {\n",
       "        vertical-align: top;\n",
       "    }\n",
       "\n",
       "    .dataframe thead th {\n",
       "        text-align: right;\n",
       "    }\n",
       "</style>\n",
       "<table border=\"1\" class=\"dataframe\">\n",
       "  <thead>\n",
       "    <tr style=\"text-align: right;\">\n",
       "      <th></th>\n",
       "      <th>xyz</th>\n",
       "      <th>u_total</th>\n",
       "      <th>u_lj</th>\n",
       "      <th>u_lrc</th>\n",
       "    </tr>\n",
       "  </thead>\n",
       "  <tbody>\n",
       "    <tr>\n",
       "      <th>0</th>\n",
       "      <td>lj_sample_config_periodic4.xyz</td>\n",
       "      <td>-17.335487</td>\n",
       "      <td>-16.790321</td>\n",
       "      <td>-0.545166</td>\n",
       "    </tr>\n",
       "    <tr>\n",
       "      <th>1</th>\n",
       "      <td>lj_triclinic_sample_config_periodic3.xyz</td>\n",
       "      <td>-535.157544</td>\n",
       "      <td>-505.785679</td>\n",
       "      <td>-29.371864</td>\n",
       "    </tr>\n",
       "  </tbody>\n",
       "</table>\n",
       "</div>"
      ],
      "text/plain": [
       "                                        xyz     u_total        u_lj      u_lrc\n",
       "0            lj_sample_config_periodic4.xyz  -17.335487  -16.790321  -0.545166\n",
       "1  lj_triclinic_sample_config_periodic3.xyz -535.157544 -505.785679 -29.371864"
      ]
     },
     "execution_count": 2,
     "metadata": {},
     "output_type": "execute_result"
    }
   ],
   "source": [
    "import pandas as pd\n",
    "df = pd.read_csv('../../dorms-data/lennard_jones/configurations/results.csv')\n",
    "df"
   ]
  },
  {
   "cell_type": "code",
   "execution_count": null,
   "id": "fdf73d9b",
   "metadata": {},
   "outputs": [],
   "source": []
  }
 ],
 "metadata": {
  "kernelspec": {
   "display_name": "Python 3 (ipykernel)",
   "language": "python",
   "name": "python3"
  },
  "language_info": {
   "codemirror_mode": {
    "name": "ipython",
    "version": 3
   },
   "file_extension": ".py",
   "mimetype": "text/x-python",
   "name": "python",
   "nbconvert_exporter": "python",
   "pygments_lexer": "ipython3",
   "version": "3.8.10"
  }
 },
 "nbformat": 4,
 "nbformat_minor": 5
}
